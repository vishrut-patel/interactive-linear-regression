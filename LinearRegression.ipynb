{
 "cells": [
  {
   "cell_type": "markdown",
   "id": "63b8a13a",
   "metadata": {},
   "source": [
    "# Simple Linear Regression\n",
    "\n",
    "$y_i = \\alpha x_i + \\beta + \\epsilon$\n",
    "\n",
    "where $\\epsilon$ is a Gaussian random variable with mean 0."
   ]
  },
  {
   "cell_type": "code",
   "execution_count": 58,
   "id": "0f39d0e6",
   "metadata": {
    "collapsed": true
   },
   "outputs": [
    {
     "name": "stdout",
     "output_type": "stream",
     "text": [
      "Requirement already satisfied: matplotlib in /home/vishrut/anaconda3/envs/stats/lib/python3.10/site-packages (3.5.3)\n",
      "Requirement already satisfied: numpy>=1.17 in /home/vishrut/anaconda3/envs/stats/lib/python3.10/site-packages (from matplotlib) (1.23.2)\n",
      "Requirement already satisfied: pyparsing>=2.2.1 in /home/vishrut/anaconda3/envs/stats/lib/python3.10/site-packages (from matplotlib) (3.0.9)\n",
      "Requirement already satisfied: python-dateutil>=2.7 in /home/vishrut/anaconda3/envs/stats/lib/python3.10/site-packages (from matplotlib) (2.8.2)\n",
      "Requirement already satisfied: cycler>=0.10 in /home/vishrut/anaconda3/envs/stats/lib/python3.10/site-packages (from matplotlib) (0.11.0)\n",
      "Requirement already satisfied: pillow>=6.2.0 in /home/vishrut/anaconda3/envs/stats/lib/python3.10/site-packages (from matplotlib) (9.2.0)\n",
      "Requirement already satisfied: kiwisolver>=1.0.1 in /home/vishrut/anaconda3/envs/stats/lib/python3.10/site-packages (from matplotlib) (1.4.4)\n",
      "Requirement already satisfied: fonttools>=4.22.0 in /home/vishrut/anaconda3/envs/stats/lib/python3.10/site-packages (from matplotlib) (4.36.0)\n",
      "Requirement already satisfied: packaging>=20.0 in /home/vishrut/anaconda3/envs/stats/lib/python3.10/site-packages (from matplotlib) (21.3)\n",
      "Requirement already satisfied: six>=1.5 in /home/vishrut/anaconda3/envs/stats/lib/python3.10/site-packages (from python-dateutil>=2.7->matplotlib) (1.16.0)\n",
      "Requirement already satisfied: numpy in /home/vishrut/anaconda3/envs/stats/lib/python3.10/site-packages (1.23.2)\n",
      "Requirement already satisfied: scipy in /home/vishrut/anaconda3/envs/stats/lib/python3.10/site-packages (1.9.0)\n",
      "Requirement already satisfied: numpy<1.25.0,>=1.18.5 in /home/vishrut/anaconda3/envs/stats/lib/python3.10/site-packages (from scipy) (1.23.2)\n",
      "Requirement already satisfied: ipywidgets in /home/vishrut/anaconda3/envs/stats/lib/python3.10/site-packages (8.0.1)\n",
      "Requirement already satisfied: traitlets>=4.3.1 in /home/vishrut/anaconda3/envs/stats/lib/python3.10/site-packages (from ipywidgets) (5.3.0)\n",
      "Requirement already satisfied: jupyterlab-widgets~=3.0 in /home/vishrut/anaconda3/envs/stats/lib/python3.10/site-packages (from ipywidgets) (3.0.2)\n",
      "Requirement already satisfied: widgetsnbextension~=4.0 in /home/vishrut/anaconda3/envs/stats/lib/python3.10/site-packages (from ipywidgets) (4.0.2)\n",
      "Requirement already satisfied: ipython>=6.1.0 in /home/vishrut/anaconda3/envs/stats/lib/python3.10/site-packages (from ipywidgets) (8.4.0)\n",
      "Requirement already satisfied: ipykernel>=4.5.1 in /home/vishrut/anaconda3/envs/stats/lib/python3.10/site-packages (from ipywidgets) (6.15.1)\n",
      "Requirement already satisfied: debugpy>=1.0 in /home/vishrut/anaconda3/envs/stats/lib/python3.10/site-packages (from ipykernel>=4.5.1->ipywidgets) (1.6.3)\n",
      "Requirement already satisfied: matplotlib-inline>=0.1 in /home/vishrut/anaconda3/envs/stats/lib/python3.10/site-packages (from ipykernel>=4.5.1->ipywidgets) (0.1.6)\n",
      "Requirement already satisfied: psutil in /home/vishrut/anaconda3/envs/stats/lib/python3.10/site-packages (from ipykernel>=4.5.1->ipywidgets) (5.9.1)\n",
      "Requirement already satisfied: packaging in /home/vishrut/anaconda3/envs/stats/lib/python3.10/site-packages (from ipykernel>=4.5.1->ipywidgets) (21.3)\n",
      "Requirement already satisfied: pyzmq>=17 in /home/vishrut/anaconda3/envs/stats/lib/python3.10/site-packages (from ipykernel>=4.5.1->ipywidgets) (23.2.1)\n",
      "Requirement already satisfied: nest-asyncio in /home/vishrut/anaconda3/envs/stats/lib/python3.10/site-packages (from ipykernel>=4.5.1->ipywidgets) (1.5.5)\n",
      "Requirement already satisfied: jupyter-client>=6.1.12 in /home/vishrut/anaconda3/envs/stats/lib/python3.10/site-packages (from ipykernel>=4.5.1->ipywidgets) (7.3.4)\n",
      "Requirement already satisfied: tornado>=6.1 in /home/vishrut/anaconda3/envs/stats/lib/python3.10/site-packages (from ipykernel>=4.5.1->ipywidgets) (6.2)\n",
      "Requirement already satisfied: jedi>=0.16 in /home/vishrut/anaconda3/envs/stats/lib/python3.10/site-packages (from ipython>=6.1.0->ipywidgets) (0.18.1)\n",
      "Requirement already satisfied: prompt-toolkit!=3.0.0,!=3.0.1,<3.1.0,>=2.0.0 in /home/vishrut/anaconda3/envs/stats/lib/python3.10/site-packages (from ipython>=6.1.0->ipywidgets) (3.0.30)\n",
      "Requirement already satisfied: decorator in /home/vishrut/anaconda3/envs/stats/lib/python3.10/site-packages (from ipython>=6.1.0->ipywidgets) (5.1.1)\n",
      "Requirement already satisfied: pexpect>4.3 in /home/vishrut/anaconda3/envs/stats/lib/python3.10/site-packages (from ipython>=6.1.0->ipywidgets) (4.8.0)\n",
      "Requirement already satisfied: setuptools>=18.5 in /home/vishrut/anaconda3/envs/stats/lib/python3.10/site-packages (from ipython>=6.1.0->ipywidgets) (65.1.0)\n",
      "Requirement already satisfied: backcall in /home/vishrut/anaconda3/envs/stats/lib/python3.10/site-packages (from ipython>=6.1.0->ipywidgets) (0.2.0)\n",
      "Requirement already satisfied: stack-data in /home/vishrut/anaconda3/envs/stats/lib/python3.10/site-packages (from ipython>=6.1.0->ipywidgets) (0.4.0)\n",
      "Requirement already satisfied: pygments>=2.4.0 in /home/vishrut/anaconda3/envs/stats/lib/python3.10/site-packages (from ipython>=6.1.0->ipywidgets) (2.13.0)\n",
      "Requirement already satisfied: pickleshare in /home/vishrut/anaconda3/envs/stats/lib/python3.10/site-packages (from ipython>=6.1.0->ipywidgets) (0.7.5)\n",
      "Requirement already satisfied: parso<0.9.0,>=0.8.0 in /home/vishrut/anaconda3/envs/stats/lib/python3.10/site-packages (from jedi>=0.16->ipython>=6.1.0->ipywidgets) (0.8.3)\n",
      "Requirement already satisfied: entrypoints in /home/vishrut/anaconda3/envs/stats/lib/python3.10/site-packages (from jupyter-client>=6.1.12->ipykernel>=4.5.1->ipywidgets) (0.4)\n",
      "Requirement already satisfied: jupyter-core>=4.9.2 in /home/vishrut/anaconda3/envs/stats/lib/python3.10/site-packages (from jupyter-client>=6.1.12->ipykernel>=4.5.1->ipywidgets) (4.11.1)\n",
      "Requirement already satisfied: python-dateutil>=2.8.2 in /home/vishrut/anaconda3/envs/stats/lib/python3.10/site-packages (from jupyter-client>=6.1.12->ipykernel>=4.5.1->ipywidgets) (2.8.2)\n",
      "Requirement already satisfied: ptyprocess>=0.5 in /home/vishrut/anaconda3/envs/stats/lib/python3.10/site-packages (from pexpect>4.3->ipython>=6.1.0->ipywidgets) (0.7.0)\n",
      "Requirement already satisfied: wcwidth in /home/vishrut/anaconda3/envs/stats/lib/python3.10/site-packages (from prompt-toolkit!=3.0.0,!=3.0.1,<3.1.0,>=2.0.0->ipython>=6.1.0->ipywidgets) (0.2.5)\n",
      "Requirement already satisfied: pyparsing!=3.0.5,>=2.0.2 in /home/vishrut/anaconda3/envs/stats/lib/python3.10/site-packages (from packaging->ipykernel>=4.5.1->ipywidgets) (3.0.9)\n",
      "Requirement already satisfied: pure-eval in /home/vishrut/anaconda3/envs/stats/lib/python3.10/site-packages (from stack-data->ipython>=6.1.0->ipywidgets) (0.2.2)\n",
      "Requirement already satisfied: asttokens in /home/vishrut/anaconda3/envs/stats/lib/python3.10/site-packages (from stack-data->ipython>=6.1.0->ipywidgets) (2.0.8)\n",
      "Requirement already satisfied: executing in /home/vishrut/anaconda3/envs/stats/lib/python3.10/site-packages (from stack-data->ipython>=6.1.0->ipywidgets) (0.10.0)\n",
      "Requirement already satisfied: six>=1.5 in /home/vishrut/anaconda3/envs/stats/lib/python3.10/site-packages (from python-dateutil>=2.8.2->jupyter-client>=6.1.12->ipykernel>=4.5.1->ipywidgets) (1.16.0)\n"
     ]
    }
   ],
   "source": [
    "import sys\n",
    "import subprocess\n",
    "\n",
    "# implement pip as a subprocess:\n",
    "subprocess.check_call([sys.executable, '-m', 'pip', 'install', 'matplotlib'])\n",
    "subprocess.check_call([sys.executable, '-m', 'pip', 'install', 'numpy'])\n",
    "subprocess.check_call([sys.executable, '-m', 'pip', 'install', 'scipy'])\n",
    "subprocess.check_call([sys.executable, '-m', 'pip', 'install', 'ipywidgets'])\n",
    "import random\n",
    "import numpy as np\n",
    "import matplotlib.pyplot as plt\n",
    "import scipy.stats as st\n",
    "# from matplotlib.widgets import Slider, Button\n",
    "import ipywidgets as widgets;"
   ]
  },
  {
   "cell_type": "code",
   "execution_count": 69,
   "id": "a8a5467b",
   "metadata": {},
   "outputs": [],
   "source": [
    "n = 100\n",
    "\n",
    "x = np.random.normal(5.5, 2, n)\n",
    "alpha = np.random.gamma(1)\n",
    "beta = np.random.uniform(0, 2)\n",
    "Y = alpha*x + beta + np.random.normal(0, 1, n)\n",
    "xy = np.array([x,Y]).T\n"
   ]
  },
  {
   "cell_type": "code",
   "execution_count": 70,
   "id": "4e665b4a",
   "metadata": {},
   "outputs": [
    {
     "data": {
      "image/png": "[encoded data removed]",
      "text/plain": [
       "<Figure size 640x480 with 1 Axes>"
      ]
     },
     "metadata": {},
     "output_type": "display_data"
    }
   ],
   "source": [
    "fig, ax1 = plt.subplots()\n",
    "\n",
    "scatter_pts, = ax1.plot(xy[:,0], xy[:,1], lw=0, marker='o')\n",
    "ax1.set_xlim(0, np.max(x)*1.2)\n",
    "ax1.set_ylim(0, np.max(Y)*1.2)\n",
    "ax1.set_xlabel('x')\n",
    "ax1.set_ylabel('Y')\n",
    "ax1.grid(True, alpha=0.3)"
   ]
  },
  {
   "cell_type": "code",
   "execution_count": 71,
   "id": "74d59ab6",
   "metadata": {},
   "outputs": [],
   "source": [
    "best_slope, best_intercept = 0, np.mean(Y)\n",
    "\n",
    "def loss_function(x, Y, slope, intercept):\n",
    "    return np.sum((Y - slope*x - intercept)**2)\n",
    "    \n",
    "def fit_by_hand(slope=0, intercept=np.mean(Y)):\n",
    "    # Define initial parameters\n",
    "    global best_slope, best_intercept\n",
    "    init_s= np.mean(Y)\n",
    "#     best_slope, best_intercept = slope, intercept\n",
    "\n",
    "    # Create the figure and the line that we will manipulate\n",
    "    fig, ax = plt.subplots()\n",
    "    scatter_points = plt.plot(x, Y, lw=0, marker='o')\n",
    "    line, = plt.plot(x, slope*x + intercept, color='red', label='Current fit')\n",
    "    if loss_function(x, Y, slope, intercept) <= loss_function(x, Y, best_slope, best_intercept):\n",
    "        best_slope, best_intercept = slope, intercept\n",
    "        \n",
    "    best_line, = plt.plot(x, best_slope*x + best_intercept, color='blue', label=\"Best fit so far\")\n",
    "    vlines = plt.vlines(x, Y, slope*x + intercept, alpha=0.3)\n",
    "    ax.set_ylim(0, np.max(Y)*1.2)\n",
    "    ax.set_xlim(0, np.max(x)*1.2)\n",
    "\n",
    "    ax.grid(True)\n",
    "    ax.set_xlabel('x')\n",
    "    ax.set_ylabel('Y')\n",
    "    ax.legend()\n",
    "    plt.subplots_adjust(right=0.75)\n",
    "\n",
    "    \n",
    "    ax_text = plt.axes([0.76, 0.1, 0.22, 0.8])\n",
    "    least_error_text = \"Least error achieved: {:.2f}\".format(loss_function(x, Y, best_slope, best_intercept))\n",
    "    best_para_text = \"Best (α, β) = ({0:.2f}, {1:.2f})\".format(best_slope, best_intercept)\n",
    "    ax_text.set_axis_off()\n",
    "    curr_error = ax_text.text(0.0, 0.9, \"Current error: {:.2f}\".format(loss_function(x, Y, slope, intercept)))\n",
    "    le_display = ax_text.text(0.0, 0.7, least_error_text, wrap=True)\n",
    "    bp_display = ax_text.text(0.0, 0.5, best_para_text, wrap=True)"
   ]
  },
  {
   "cell_type": "code",
   "execution_count": 72,
   "id": "2c265d61",
   "metadata": {},
   "outputs": [
    {
     "data": {
      "application/vnd.jupyter.widget-view+json": {
       "model_id": "b97c550ff1394de395d166dfcbaa6a98",
       "version_major": 2,
       "version_minor": 0
      },
      "text/plain": [
       "interactive(children=(FloatSlider(value=0.0, description='Slope α', max=2.0, min=-2.0, step=0.01), FloatSlider…"
      ]
     },
     "metadata": {},
     "output_type": "display_data"
    },
    {
     "data": {
      "text/plain": [
       "<function __main__.fit_by_hand(slope=0, intercept=10.217598366207213)>"
      ]
     },
     "execution_count": 72,
     "metadata": {},
     "output_type": "execute_result"
    }
   ],
   "source": [
    "slope_slider = widgets.FloatSlider(min=-2.0, max=2.0, value=0.0, step=0.01, description=r\"Slope α\")\n",
    "intercept_slider = widgets.FloatSlider(min=-np.max(Y), value=np.mean(Y),  max=np.max(Y), orientation='horizontal',  description=r\"Intercept β\")\n",
    "\n",
    "widgets.interact(fit_by_hand,slope=slope_slider, intercept=intercept_slider)"
   ]
  },
  {
   "cell_type": "code",
   "execution_count": null,
   "id": "fd535f95",
   "metadata": {},
   "outputs": [],
   "source": []
  }
 ],
 "metadata": {
  "kernelspec": {
   "display_name": "Python 3 (ipykernel)",
   "language": "python",
   "name": "python3"
  },
  "language_info": {
   "codemirror_mode": {
    "name": "ipython",
    "version": 3
   },
   "file_extension": ".py",
   "mimetype": "text/x-python",
   "name": "python",
   "nbconvert_exporter": "python",
   "pygments_lexer": "ipython3",
   "version": "3.10.5"
  }
 },
 "nbformat": 4,
 "nbformat_minor": 5
}
