{
 "cells": [
  {
   "cell_type": "code",
   "execution_count": 92,
   "id": "d7b221a4",
   "metadata": {},
   "outputs": [],
   "source": [
    "import sys\n",
    "import subprocess\n",
    "\n",
    "# implement pip as a subprocess:\n",
    "subprocess.check_call([sys.executable, '-m', 'pip', 'install', \n",
    "'matplotlib'])\n",
    "subprocess.check_call([sys.executable, '-m', 'pip', 'install', \n",
    "'numpy'])\n",
    "subprocess.check_call([sys.executable, '-m', 'pip', 'install', \n",
    "'scipy'])\n",
    "\n",
    "import random\n",
    "import numpy as np\n",
    "import matplotlib.pyplot as plt\n",
    "import scipy.stats as st\n",
    "from matplotlib.widgets import Slider, Button\n"
   ]
  },
  {
   "cell_type": "code",
   "execution_count": 93,
   "id": "6d754a7e",
   "metadata": {},
   "outputs": [],
   "source": [
    "x = np.random.normal(5.5, 3, 25)"
   ]
  },
  {
   "cell_type": "code",
   "execution_count": 94,
   "id": "375c30be",
   "metadata": {},
   "outputs": [
    {
     "name": "stdout",
     "output_type": "stream",
     "text": [
      "[10.86081113 12.95742969  7.9181162   4.20226865  6.12813902  3.15680428\n",
      "  1.8169566   4.86362945  9.14479028  4.85433536  4.6799922   1.95146025\n",
      "  2.08643061  8.44351461 10.14860403 10.08276849  4.63085054  9.51849997\n",
      " 10.59119192  5.38378193  3.07036133  6.14762981  8.9132151   4.9555681\n",
      "  7.98212909]\n"
     ]
    }
   ],
   "source": [
    "print(x)"
   ]
  },
  {
   "cell_type": "code",
   "execution_count": 95,
   "id": "c077b3e2",
   "metadata": {},
   "outputs": [],
   "source": [
    "alpha = np.random.gamma(1)\n",
    "beta = np.random.uniform(0, 2)\n",
    "Y = alpha*x + beta + np.random.normal(0, 1, 25)"
   ]
  },
  {
   "cell_type": "code",
   "execution_count": 96,
   "id": "e0ca79c7",
   "metadata": {},
   "outputs": [
    {
     "name": "stdout",
     "output_type": "stream",
     "text": [
      "[10.06460702 12.79608088  8.97268402  5.79048339  6.71750059  4.59118264\n",
      "  3.6163066   7.48053248 10.15375544  5.90514415  4.57649326  1.55029606\n",
      "  1.89899656  9.95937886 10.95138511 10.57802601  4.12486479 11.79806785\n",
      " 10.22023269  7.77446516  3.86289502  6.21846565  9.83395165  5.2487127\n",
      "  7.38456688]\n"
     ]
    }
   ],
   "source": [
    "print(Y)"
   ]
  },
  {
   "cell_type": "code",
   "execution_count": 97,
   "id": "e0181146",
   "metadata": {},
   "outputs": [
    {
     "data": {
      "text/plain": [
       "[<matplotlib.lines.Line2D at 0x7f9a7c4d3220>]"
      ]
     },
     "execution_count": 97,
     "metadata": {},
     "output_type": "execute_result"
    }
   ],
   "source": [
    "\n",
    "plt.plot(x, Y, lw=0, marker='o')"
   ]
  },
  {
   "cell_type": "code",
   "execution_count": 98,
   "id": "37fde8be",
   "metadata": {},
   "outputs": [
    {
     "data": {
      "text/plain": [
       "<matplotlib.legend.Legend at 0x7f9a7c24a8f0>"
      ]
     },
     "execution_count": 98,
     "metadata": {},
     "output_type": "execute_result"
    }
   ],
   "source": [
    "\n",
    "res = st.linregress(x, Y)\n",
    "\n",
    "plt.plot(x, Y, lw=0, marker='o', label='Data')\n",
    "plt.plot(x, res.slope*x + res.intercept, color='red', label='Linear regression fitted model')\n",
    "plt.plot(x, alpha*x + beta, color='blue', lw = 1, ls='--', label='Ground truth')\n",
    "plt.vlines(x, Y, res.slope*x + res.intercept, alpha=0.3)\n",
    "\n",
    "plt.legend()"
   ]
  },
  {
   "cell_type": "code",
   "execution_count": 66,
   "id": "16c075f1",
   "metadata": {},
   "outputs": [],
   "source": [
    "def loss_function(x, Y, slope, intercept):\n",
    "    return np.sum((Y - slope*x - intercept)**2)\n",
    "    "
   ]
  },
  {
   "cell_type": "code",
   "execution_count": 99,
   "id": "618c5808",
   "metadata": {},
   "outputs": [],
   "source": [
    "from matplotlib.widgets import Slider, Button\n",
    "\n",
    "# Define initial parameters\n",
    "init_slope = 0\n",
    "init_intercept = np.mean(Y)\n",
    "best_slope, best_intercept = init_slope, init_intercept\n",
    "\n",
    "# Create the figure and the line that we will manipulate\n",
    "fig, ax = plt.subplots()\n",
    "scatter_points = plt.plot(x, Y, lw=0, marker='o')\n",
    "line, = plt.plot(x, init_slope*x + init_intercept, color='red', label='Current fit')\n",
    "best_line, = plt.plot(x, init_slope*x + init_intercept, color='blue', label=\"Best fit\")\n",
    "vlines = plt.vlines(x, Y, init_slope*x + init_intercept, alpha=0.3)\n",
    "\n",
    "\n",
    "ax.set_xlabel('x')\n",
    "ax.legend()\n",
    "\n",
    "# adjust the main plot to make room for the sliders\n",
    "plt.subplots_adjust(left=0.25, right=0.75, bottom=0.25)\n",
    "\n",
    "# Make a horizontal slider to control the slope.\n",
    "ax_slope = plt.axes([0.25, 0.1, 0.5, 0.03])\n",
    "slope_slider = Slider(\n",
    "    ax=ax_slope,\n",
    "    label='Slope',\n",
    "    valmin=-3,\n",
    "    valmax=3,\n",
    "    valinit=init_slope,\n",
    ")\n",
    "\n",
    "# Make a vertically oriented slider to control the intercept\n",
    "ax_intercept = plt.axes([0.1, 0.25, 0.0225, 0.63])\n",
    "intercept_slider = Slider(\n",
    "    ax=ax_intercept,\n",
    "    label=\"Intercept\",\n",
    "    valmin=-5,\n",
    "    valmax=25,\n",
    "    valinit=init_intercept,\n",
    "    orientation=\"vertical\"\n",
    ")\n",
    "\n",
    "ax_text = plt.axes([0.76, 0.1, 0.22, 0.8])\n",
    "least_error_text = \"Least error achieved: {:.2f}\".format(loss_function(x, Y, best_slope, best_intercept))\n",
    "best_para_text = \"Best (slope, intercept) = ({0:.2f}, {1:.2f})\".format(best_slope, best_intercept)\n",
    "ax_text.set_axis_off()\n",
    "curr_error = ax_text.text(0.0, 0.9, \"Current error: {:.2f}\".format(loss_function(x, Y, init_slope, init_intercept)))\n",
    "le_display = ax_text.text(0.0, 0.7, least_error_text, wrap=True)\n",
    "bp_display = ax_text.text(0.0, 0.5, best_para_text, wrap=True)\n",
    "\n",
    "# The function to be called anytime a slider's value changes\n",
    "def update(val):\n",
    "    global best_intercept, best_slope\n",
    "    line.set_ydata(slope_slider.val*x + intercept_slider.val)\n",
    "    vlines.set_segments(np.array([[[x[i], Y[i]], [x[i], slope_slider.val*x[i] + intercept_slider.val]] for i in range(len(x))]))\n",
    "    \n",
    "    if loss_function(x, Y, slope_slider.val, intercept_slider.val) < loss_function(x, Y, best_slope, best_intercept):\n",
    "        best_slope, best_intercept = slope_slider.val, intercept_slider.val\n",
    "        best_line.set_ydata(best_slope*x + best_intercept)\n",
    "    least_error_text = \"Least error achieved: {:.2f}\".format(loss_function(x, Y, best_slope, best_intercept))\n",
    "    curr_error.set_text(\"Current error: {:.2f}\".format(loss_function(x, Y, slope_slider.val, intercept_slider.val)))\n",
    "    best_para_text = \"Best (slope, intercept) = ({0:.2f}, {1:.2f})\".format(best_slope, best_intercept)\n",
    "    le_display.set_text(least_error_text)\n",
    "    bp_display.set_text(best_para_text)\n",
    "    fig.canvas.draw_idle()\n",
    "\n",
    "\n",
    "# register the update function with each slider\n",
    "slope_slider.on_changed(update)\n",
    "intercept_slider.on_changed(update)\n",
    "\n",
    "# Create a `matplotlib.widgets.Button` to reset the sliders to initial values.\n",
    "resetax = plt.axes([0.8, 0.025, 0.1, 0.04])\n",
    "button = Button(resetax, 'Reset', hovercolor='0.975')\n",
    "\n",
    "\n",
    "def reset(event):\n",
    "    slope_slider.reset()\n",
    "    intercept_slider.reset()\n",
    "button.on_clicked(reset)\n",
    "\n",
    "plt.show()"
   ]
  },
  {
   "cell_type": "markdown",
   "id": "50d2b024",
   "metadata": {},
   "source": [
    "%matplotlib qt"
   ]
  },
  {
   "cell_type": "code",
   "execution_count": 22,
   "id": "7ed6bd78",
   "metadata": {},
   "outputs": [
    {
     "name": "stdout",
     "output_type": "stream",
     "text": [
      "[array([[ 6.13053274, 11.10849035],\n",
      "       [ 6.13053274, 11.61401858]]), array([[ 5.52780471,  9.93637627],\n",
      "       [ 5.52780471, 11.61401858]]), array([[ 4.74004249, 10.24429617],\n",
      "       [ 4.74004249, 11.61401858]]), array([[10.7303704 , 22.26224846],\n",
      "       [10.7303704 , 11.61401858]]), array([[ 9.3805904 , 19.75754484],\n",
      "       [ 9.3805904 , 11.61401858]]), array([[ 6.72160749, 13.51665347],\n",
      "       [ 6.72160749, 11.61401858]]), array([[ 4.36010031,  7.92831311],\n",
      "       [ 4.36010031, 11.61401858]]), array([[ 5.83080735, 11.61428684],\n",
      "       [ 5.83080735, 11.61401858]]), array([[ 6.42411728, 11.90255293],\n",
      "       [ 6.42411728, 11.61401858]]), array([[ 9.30494547, 18.95932476],\n",
      "       [ 9.30494547, 11.61401858]]), array([[ 7.31878908, 14.29289538],\n",
      "       [ 7.31878908, 11.61401858]]), array([[ 7.14011101, 19.09668321],\n",
      "       [ 7.14011101, 11.61401858]]), array([[ 3.94918451,  5.72040553],\n",
      "       [ 3.94918451, 11.61401858]]), array([[ 4.88908354, 11.90031805],\n",
      "       [ 4.88908354, 11.61401858]]), array([[ 8.15325709, 18.36678966],\n",
      "       [ 8.15325709, 11.61401858]]), array([[ 4.73998715,  4.93056377],\n",
      "       [ 4.73998715, 11.61401858]]), array([[ 3.52949726,  9.04636241],\n",
      "       [ 3.52949726, 11.61401858]]), array([[ 4.56372756, 11.22284611],\n",
      "       [ 4.56372756, 11.61401858]]), array([[ 8.00294215, 14.29065392],\n",
      "       [ 8.00294215, 11.61401858]]), array([[ 1.11188707,  2.24489018],\n",
      "       [ 1.11188707, 11.61401858]]), array([[ 2.24216947,  3.88059069],\n",
      "       [ 2.24216947, 11.61401858]]), array([[ 5.34986917, 13.7398705 ],\n",
      "       [ 5.34986917, 11.61401858]]), array([[ 2.78035717,  4.78136739],\n",
      "       [ 2.78035717, 11.61401858]]), array([[ 6.64353546, 13.24845308],\n",
      "       [ 6.64353546, 11.61401858]]), array([[ 4.1708034 ,  6.35768727],\n",
      "       [ 4.1708034 , 11.61401858]])]\n"
     ]
    }
   ],
   "source": [
    "segs = vlines.get_segments()\n",
    "print([seg for seg in segs])"
   ]
  },
  {
   "cell_type": "code",
   "execution_count": null,
   "id": "ba20b1e6",
   "metadata": {},
   "outputs": [],
   "source": []
  }
 ],
 "metadata": {
  "kernelspec": {
   "display_name": "Python 3.10.4 64-bit",
   "language": "python",
   "name": "python3"
  },
  "language_info": {
   "codemirror_mode": {
    "name": "ipython",
    "version": 3
   },
   "file_extension": ".py",
   "mimetype": "text/x-python",
   "name": "python",
   "nbconvert_exporter": "python",
   "pygments_lexer": "ipython3",
   "version": "3.10.4"
  },
  "vscode": {
   "interpreter": {
    "hash": "916dbcbb3f70747c44a77c7bcd40155683ae19c65e1c03b4aa3499c5328201f1"
   }
  }
 },
 "nbformat": 4,
 "nbformat_minor": 5
}
