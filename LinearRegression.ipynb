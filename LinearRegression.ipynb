{
 "cells": [
  {
   "cell_type": "markdown",
   "id": "01d4c331",
   "metadata": {},
   "source": [
    "# Simple Linear Regression\n",
    "\n",
    "$y_i = \\alpha x_i + \\beta + \\epsilon$\n",
    "\n",
    "where $\\epsilon$ is a Gaussian random variable with mean 0."
   ]
  },
  {
   "cell_type": "code",
   "execution_count": null,
   "id": "c5a26aef",
   "metadata": {},
   "outputs": [],
   "source": [
    "import sys\n",
    "import subprocess\n",
    "\n",
    "# # implement pip as a subprocess:\n",
    "# subprocess.check_call([sys.executable, '-m', 'pip', 'install', 'matplotlib'])\n",
    "# subprocess.check_call([sys.executable, '-m', 'pip', 'install', 'numpy'])\n",
    "# subprocess.check_call([sys.executable, '-m', 'pip', 'install', 'scipy'])\n",
    "# subprocess.check_call([sys.executable, '-m', 'pip', 'install', 'ipywidgets'])\n",
    "import random\n",
    "import numpy as np\n",
    "import matplotlib.pyplot as plt\n",
    "import scipy.stats as st\n",
    "# from matplotlib.widgets import Slider, Button\n",
    "import ipywidgets as widgets;"
   ]
  },
  {
   "cell_type": "code",
   "execution_count": null,
   "id": "0276f60a",
   "metadata": {},
   "outputs": [],
   "source": [
    "n = 100\n",
    "\n",
    "x = np.random.normal(5.5, 2, n)\n",
    "alpha = np.random.gamma(1)\n",
    "beta = np.random.uniform(0, 2)\n",
    "Y = alpha*x + beta + np.random.normal(0, 1, n)\n",
    "xy = np.array([x,Y]).T\n"
   ]
  },
  {
   "cell_type": "code",
   "execution_count": null,
   "id": "401eff58",
   "metadata": {},
   "outputs": [],
   "source": [
    "fig, ax1 = plt.subplots()\n",
    "\n",
    "scatter_pts, = ax1.plot(xy[:,0], xy[:,1], lw=0, marker='o')\n",
    "ax1.set_xlim(0, np.max(x)*1.2)\n",
    "ax1.set_ylim(0, np.max(Y)*1.2)\n",
    "ax1.set_xlabel('x')\n",
    "ax1.set_ylabel('Y')\n",
    "ax1.grid(True, alpha=0.3)"
   ]
  },
  {
   "cell_type": "code",
   "execution_count": null,
   "id": "7c9eab79",
   "metadata": {},
   "outputs": [],
   "source": [
    "best_slope, best_intercept = 0, np.mean(Y)\n",
    "\n",
    "def loss_function(x, Y, slope, intercept):\n",
    "    return np.sum((Y - slope*x - intercept)**2)\n",
    "    \n",
    "def fit_by_hand(slope=0, intercept=np.mean(Y)):\n",
    "    # Define initial parameters\n",
    "    global best_slope, best_intercept\n",
    "    init_s= np.mean(Y)\n",
    "#     best_slope, best_intercept = slope, intercept\n",
    "\n",
    "    # Create the figure and the line that we will manipulate\n",
    "    fig, ax = plt.subplots()\n",
    "    scatter_points = plt.plot(x, Y, lw=0, marker='o')\n",
    "    line, = plt.plot(x, slope*x + intercept, color='red', label='Current fit')\n",
    "    if loss_function(x, Y, slope, intercept) <= loss_function(x, Y, best_slope, best_intercept):\n",
    "        best_slope, best_intercept = slope, intercept\n",
    "        \n",
    "    best_line, = plt.plot(x, best_slope*x + best_intercept, color='blue', label=\"Best fit so far\")\n",
    "    vlines = plt.vlines(x, Y, slope*x + intercept, alpha=0.3)\n",
    "    ax.set_ylim(0, np.max(Y)*1.2)\n",
    "    ax.set_xlim(0, np.max(x)*1.2)\n",
    "\n",
    "    ax.grid(True)\n",
    "    ax.set_xlabel('x')\n",
    "    ax.set_ylabel('Y')\n",
    "    ax.legend()\n",
    "    plt.subplots_adjust(right=0.75)\n",
    "\n",
    "    \n",
    "    ax_text = plt.axes([0.76, 0.1, 0.22, 0.8])\n",
    "    least_error_text = \"Least error achieved: {:.2f}\".format(loss_function(x, Y, best_slope, best_intercept))\n",
    "    best_para_text = \"Best (α, β) = ({0:.2f}, {1:.2f})\".format(best_slope, best_intercept)\n",
    "    ax_text.set_axis_off()\n",
    "    curr_error = ax_text.text(0.0, 0.9, \"Current error: {:.2f}\".format(loss_function(x, Y, slope, intercept)))\n",
    "    le_display = ax_text.text(0.0, 0.7, least_error_text, wrap=True)\n",
    "    bp_display = ax_text.text(0.0, 0.5, best_para_text, wrap=True)"
   ]
  },
  {
   "cell_type": "code",
   "execution_count": null,
   "id": "4f20bb30",
   "metadata": {},
   "outputs": [],
   "source": [
    "slope_slider = widgets.FloatSlider(min=-2.0, max=2.0, value=0.0, step=0.01, description=r\"Slope α\")\n",
    "intercept_slider = widgets.FloatSlider(min=-np.max(Y), value=np.mean(Y),  max=np.max(Y), orientation='horizontal',  description=r\"Intercept β\")\n",
    "\n",
    "widgets.interact(fit_by_hand,slope=slope_slider, intercept=intercept_slider)"
   ]
  },
  {
   "cell_type": "code",
   "execution_count": null,
   "id": "86019f85",
   "metadata": {},
   "outputs": [],
   "source": []
  }
 ],
 "metadata": {
  "kernelspec": {
   "display_name": "Python 3 (ipykernel)",
   "language": "python",
   "name": "python3"
  },
  "language_info": {
   "codemirror_mode": {
    "name": "ipython",
    "version": 3
   },
   "file_extension": ".py",
   "mimetype": "text/x-python",
   "name": "python",
   "nbconvert_exporter": "python",
   "pygments_lexer": "ipython3",
   "version": "3.10.5"
  }
 },
 "nbformat": 4,
 "nbformat_minor": 5
}
